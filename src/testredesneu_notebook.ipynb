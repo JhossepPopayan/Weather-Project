{
 "cells": [
  {
   "cell_type": "code",
   "execution_count": null,
   "metadata": {},
   "outputs": [],
   "source": [
    "import pandas as pd\n",
    "import numpy as np\n",
    "import matplotlib.pyplot as plt\n",
    "from sknn.mlp import Regressor, Layer"
   ]
  },
  {
   "cell_type": "code",
   "execution_count": null,
   "metadata": {},
   "outputs": [],
   "source": [
    "# Test point 3\n",
    "Estacion_01 = pd.read_excel('PorvenirCompl.xlsx',sheet_name='Estacion_01',index_col=0)\n",
    "Estacion_01 = Estacion_01.rename(columns={'Agregado': 'Est1'})\n",
    "Estacion_02 = pd.read_excel('sanantonio.xlsx',sheet_name='Estacion_02',index_col=0)\n",
    "Estacion_02 = Estacion_02.rename(columns={'Agregado': 'Est2'})\n",
    "Estacion_03 = pd.read_excel('cunumbuque.xlsx',sheet_name='Estacion_03',index_col=0)\n",
    "Estacion_03 = Estacion_03.rename(columns={'Agregado': 'Est3'})"
   ]
  },
  {
   "cell_type": "code",
   "execution_count": null,
   "metadata": {},
   "outputs": [],
   "source": [
    "TodasEstaciones = Estacion_01.resample('24H', how='sum')\n",
    "# TodasEstaciones = Estacion_01.resample('24H').sum()\n",
    "TodasEstaciones['Est2']=Estacion_02['Est2'].resample('24H', how='sum')\n",
    "TodasEstaciones['Est3']=Estacion_03['Est3'].resample('24H', how='sum')\n",
    "TodasEstaciones.head()"
   ]
  },
  {
   "cell_type": "code",
   "execution_count": null,
   "metadata": {},
   "outputs": [],
   "source": [
    "capasinicio = TodasEstaciones.ix['1983-08-02':'2014-04-30'].as_matrix()[:,[0,2]]\n",
    "capasalida = TodasEstaciones.ix['1983-08-02':'2014-04-30'].as_matrix()[:,1]\n",
    "neurones =  1000\n",
    "tasaaprendizaje = 0.00001\n",
    "numiteraciones = 9000"
   ]
  },
  {
   "cell_type": "code",
   "execution_count": null,
   "metadata": {},
   "outputs": [],
   "source": [
    "redneural = Regressor(\n",
    "    layers=[\n",
    "        Layer(\"ExpLin\", units=neurones),\n",
    "        Layer(\"ExpLin\", units=neurones), Layer(\"Linear\")],\n",
    "    learning_rate=tasaaprendizaje,\n",
    "    n_iter=numiteraciones)\n",
    "redneural.fit(capasinicio, capasalida)\n",
    "\n",
    "\n",
    "capasinicio1 = TodasEstaciones.ix['2010-01-01':'2010-12-31'].as_matrix()[:,[0,2]]\n",
    "valor1 = ([])\n",
    "for i in range(capasinicio1.shape[0]):\n",
    "    prediccion = redneural.predict(np.array([capasinicio1[i,:].tolist()]))\n",
    "    valor1.append(prediccion[0][0])\n",
    "\n",
    "\n",
    "\n",
    "TodasEstaciones['Est2_Completed']=TodasEstaciones['Est2']\n",
    "TodasEstaciones['Est2_Completed'].ix['2010-01-01':'2010-12-31']=valor1\n",
    "\n",
    "\n"
   ]
  },
  {
   "cell_type": "code",
   "execution_count": null,
   "metadata": {},
   "outputs": [],
   "source": [
    "fig, axs = plt.subplots(4, 1, sharex=True)\n",
    "\n",
    "fig.subplots_adjust(hspace=0)\n",
    "axs[0].plot(TodasEstaciones['Est1'].ix['1983-08-02':'2014-04-30'],label='PorvenirCompl')\n",
    "axs[0].legend(loc=2)\n",
    "axs[1].plot(TodasEstaciones['Est2'].ix['1983-08-02':'2014-04-30'],label='sanantonio',color='g')\n",
    "axs[1].legend(loc=2)\n",
    "axs[2].plot(TodasEstaciones['Est3'].ix['1983-08-02':'2014-04-30'],label='cunumbuque',color='orange')\n",
    "axs[2].legend(loc=2)\n",
    "axs[3].plot(TodasEstaciones['Est2_Completed'].ix['1983-08-02':'2014-04-30'],label='sanantonioCompletado',color='firebrick')\n",
    "axs[3].legend(loc=2)\n",
    "\n",
    "\n",
    "plt.show()\n",
    "\n",
    "writer = pd.ExcelWriter('sanantonioComplTest.xlsx')\n",
    "TodasEstaciones['Est2_Completed'].to_excel(writer,'Sheet1')\n",
    "writer.save()"
   ]
  }
 ],
 "metadata": {
  "kernelspec": {
   "display_name": "Python 3",
   "language": "python",
   "name": "python3"
  },
  "language_info": {
   "codemirror_mode": {
    "name": "ipython",
    "version": 3
   },
   "file_extension": ".py",
   "mimetype": "text/x-python",
   "name": "python",
   "nbconvert_exporter": "python",
   "pygments_lexer": "ipython3",
   "version": "3.6.4"
  }
 },
 "nbformat": 4,
 "nbformat_minor": 2
}
