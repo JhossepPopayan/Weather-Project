{
 "cells": [
  {
   "cell_type": "code",
   "execution_count": null,
   "metadata": {},
   "outputs": [],
   "source": [
    "import pandas as pd\n",
    "import numpy as np\n",
    "import matplotlib.pyplot as plt\n",
    "from sknn.mlp import Regressor, Layer"
   ]
  },
  {
   "cell_type": "code",
   "execution_count": null,
   "metadata": {},
   "outputs": [],
   "source": [
    "Estacion_01 = pd.read_excel('sanantonioCompl.xlsx',sheet_name='Estacion_03',index_col=0)\n",
    "Estacion_01 = Estacion_01.rename(columns={'Agregado': 'Est1'})\n",
    "Estacion_02 = pd.read_excel('sanantonioComplTest.xlsx',sheet_name='Estacion_02',index_col=0)\n",
    "Estacion_02 = Estacion_02.rename(columns={'Agregado': 'Est2'})"
   ]
  },
  {
   "cell_type": "code",
   "execution_count": null,
   "metadata": {},
   "outputs": [],
   "source": [
    "fig, axs = plt.subplots(1, 1, sharex=True)\n",
    "\n",
    "plt.plot(Estacion_01.ix['2010-01-01':'2010-12-31'],label='observado',color='yellowgreen')\n",
    "plt.plot(Estacion_02.ix['2010-01-01':'2010-12-31']-1.344202,label='pronosticado',color='peru')\n",
    "plt.legend(loc=2)\n",
    "\n",
    "plt.show()"
   ]
  }
 ],
 "metadata": {
  "kernelspec": {
   "display_name": "Python 3",
   "language": "python",
   "name": "python3"
  },
  "language_info": {
   "codemirror_mode": {
    "name": "ipython",
    "version": 3
   },
   "file_extension": ".py",
   "mimetype": "text/x-python",
   "name": "python",
   "nbconvert_exporter": "python",
   "pygments_lexer": "ipython3",
   "version": "3.6.4"
  }
 },
 "nbformat": 4,
 "nbformat_minor": 2
}
